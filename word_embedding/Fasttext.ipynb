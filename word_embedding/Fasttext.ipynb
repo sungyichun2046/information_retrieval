{
 "cells": [
  {
   "cell_type": "code",
   "execution_count": 6,
   "metadata": {},
   "outputs": [],
   "source": [
    "from __future__ import absolute_import\n",
    "import sys\n",
    "import pandas as pd\n",
    "sys.path.append('/home/yichun/projects/information_retrieval')\n",
    "import fasttext\n",
    "\n",
    "class Fasttext():\n",
    "    \"\"\"\n",
    "        Build a fasttext vectorizer using library fasttext\n",
    "    \"\"\"\n",
    "    def create_training_file(self):\n",
    "        judgements = pd.read_csv('../data/judgements')\n",
    "        texts = list(judgements['text'])\n",
    "        for text in texts:\n",
    "            with open('data/corpus.txt', 'a') as f:\n",
    "                f.write(\"{}{}\".format(text, '\\n'))\n",
    "\n",
    "    def train(self):\n",
    "        model = fasttext.train_unsupervised(\"data/corpus.txt\", model='cbow', minCount=10, lr=0.05, dim=50, ws=5, epoch=5)\n",
    "        model.save_model(\"fasttext_model_50d.bin\")\n",
    "        print('Number of unique words in model = ', len(model.words))"
   ]
  },
  {
   "cell_type": "markdown",
   "metadata": {},
   "source": [
    "### Train vectors on judgements "
   ]
  },
  {
   "cell_type": "code",
   "execution_count": 7,
   "metadata": {},
   "outputs": [
    {
     "name": "stdout",
     "output_type": "stream",
     "text": [
      "Number of unique words in model =  15651\n"
     ]
    }
   ],
   "source": [
    "vectorizer = Fasttext()\n",
    "vectorizer.create_training_file()\n",
    "vectorizer.train()"
   ]
  }
 ],
 "metadata": {
  "anaconda-cloud": {},
  "kernelspec": {
   "display_name": "Python 3",
   "language": "python",
   "name": "python3"
  },
  "language_info": {
   "codemirror_mode": {
    "name": "ipython",
    "version": 3
   },
   "file_extension": ".py",
   "mimetype": "text/x-python",
   "name": "python",
   "nbconvert_exporter": "python",
   "pygments_lexer": "ipython3",
   "version": "3.6.8"
  }
 },
 "nbformat": 4,
 "nbformat_minor": 1
}
