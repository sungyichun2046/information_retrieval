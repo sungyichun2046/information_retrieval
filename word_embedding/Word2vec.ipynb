{
 "cells": [
  {
   "cell_type": "code",
   "execution_count": 1,
   "metadata": {},
   "outputs": [],
   "source": [
    "from __future__ import absolute_import\n",
    "import sys\n",
    "sys.path.append('/home/yichun/projects/information_retrieval')\n",
    "import pandas as pd\n",
    "from process import tokenizer\n",
    "from gensim.models import Word2Vec\n",
    "\n",
    "class Word2vec():\n",
    "    def __init__(self, infile=None):\n",
    "        self.model =None\n",
    "        if infile:\n",
    "            self.load(infile)\n",
    "\n",
    "    def train(self, sentences, outfile):\n",
    "        \"\"\"\n",
    "        :param sentences: list of tokens\n",
    "        :param outfile:\n",
    "        :return:\n",
    "        \"\"\"\n",
    "        self.model = Word2Vec(sentences=list(sentences), size=100, window=5, min_count=5, workers=4, sg=0)\n",
    "        self.model.save(outfile)\n",
    "\n",
    "    def load(self, infile):\n",
    "        self.model = Word2Vec.load(infile)\n",
    "\n",
    "    def retrain(self, new_sentences):\n",
    "        \"\"\"\n",
    "        Continue to train\n",
    "        \"\"\"\n",
    "        self.model.train(new_sentences, total_examples=len(new_sentences), epochs=1)\n",
    "\n",
    "    def get_word_similarity(self, word1, word2):\n",
    "        return self.model.similarity(word1, word2)\n",
    "\n",
    "    def get_most_similar_words(self, word=None):\n",
    "        similar_words = self.model.wv.most_similar(word)\n",
    "        return similar_words"
   ]
  },
  {
   "cell_type": "code",
   "execution_count": 2,
   "metadata": {},
   "outputs": [
    {
     "name": "stdout",
     "output_type": "stream",
     "text": [
      "similar words and theirs similarities of indemnité = [('dommages-intérêts', 0.5594348907470703), ('préavis', 0.5538815855979919), ('385', 0.5371019244194031), ('bruts', 0.529854416847229), ('00', 0.5241867303848267), ('conventionnelle', 0.5232914090156555), ('compensatrice', 0.4955269992351532), ('somme', 0.4824221134185791), ('prime', 0.47226881980895996), ('ancienneté', 0.4706411063671112)]\n",
      "similarity between résiliation and rupture = 0.7252556\n"
     ]
    },
    {
     "name": "stderr",
     "output_type": "stream",
     "text": [
      "/home/yichun/.virtualenvs/nlp/lib/python3.6/site-packages/ipykernel_launcher.py:33: DeprecationWarning: Call to deprecated `similarity` (Method will be removed in 4.0.0, use self.wv.similarity() instead).\n"
     ]
    }
   ],
   "source": [
    "file = '/home/yichun/projects/information_retrieval/word_embedding/word2vec_model_100d'\n",
    "vectorizer = Word2vec()\n",
    "corpus = pd.read_csv('/home/yichun/projects/information_retrieval/data/judgements')\n",
    "corpus['text_tokenized'] = corpus['text'].apply(lambda x: tokenizer(x))\n",
    "vectorizer.train(list(corpus['text_tokenized']), file)\n",
    "similar_words = vectorizer.get_most_similar_words(word='indemnité')\n",
    "sim = vectorizer.get_word_similarity('résiliation', 'rupture')\n",
    "print(\"similar words and theirs similarities of indemnité = {}\".format(similar_words))\n",
    "print(\"similarity between résiliation and rupture =\", sim)"
   ]
  }
 ],
 "metadata": {
  "anaconda-cloud": {},
  "kernelspec": {
   "display_name": "Python 3",
   "language": "python",
   "name": "python3"
  },
  "language_info": {
   "codemirror_mode": {
    "name": "ipython",
    "version": 3
   },
   "file_extension": ".py",
   "mimetype": "text/x-python",
   "name": "python",
   "nbconvert_exporter": "python",
   "pygments_lexer": "ipython3",
   "version": "3.6.8"
  }
 },
 "nbformat": 4,
 "nbformat_minor": 1
}
