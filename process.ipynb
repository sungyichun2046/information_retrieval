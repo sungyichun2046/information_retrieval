{
 "cells": [
  {
   "cell_type": "code",
   "execution_count": 2,
   "metadata": {},
   "outputs": [],
   "source": [
    "from __future__ import absolute_import\n",
    "import sys\n",
    "sys.path.append('/home/yichun/projects/information_retrieval')\n",
    "import json\n",
    "import pandas as pd\n",
    "import re\n",
    "import collections\n",
    "with open(\"/home/yichun/projects/information_retrieval/data/punctuation.json\", \"r\") as infile:\n",
    "    punctuations = json.load(infile)\n"
   ]
  },
  {
   "cell_type": "code",
   "execution_count": 3,
   "metadata": {},
   "outputs": [],
   "source": [
    "def tokenizer(text):\n",
    "    \"\"\"\n",
    "    :param text: string\n",
    "    :return: list of token\n",
    "    \"\"\"\n",
    "    # split text with multiple delimiters\n",
    "\n",
    "    if str(text).isdigit() or type(text) == int:\n",
    "        tokens = str(text)\n",
    "    else:\n",
    "        tokens = re.split(\n",
    "                r'\\s+',\n",
    "                re.sub(r\"[,\\!?'’/\\(\\)\\.]\", \" \", text).strip()\n",
    "        )\n",
    "    return tokens"
   ]
  },
  {
   "cell_type": "code",
   "execution_count": 4,
   "metadata": {},
   "outputs": [],
   "source": [
    "def load_jsonl(input_path):\n",
    "    \"\"\"\n",
    "    Read list of objects from a JSON lines file\n",
    "    :param input_path: name of JSONL file with one dictionary/object per line\n",
    "    :return: list of json\n",
    "    \"\"\"\n",
    "    data = []\n",
    "    with open(input_path, 'r', encoding='utf-8') as f:\n",
    "        for line in f:\n",
    "            data.append(json.loads(line.rstrip('\\n|\\r')))\n",
    "    print('Loaded {} records from {}'.format(len(data), input_path))\n",
    "    return data"
   ]
  },
  {
   "cell_type": "code",
   "execution_count": 5,
   "metadata": {},
   "outputs": [],
   "source": [
    "def get_dataframe(infile):\n",
    "    \"\"\"\n",
    "    Read jsonl file and return a dataframe\n",
    "    :param {string} infile:\n",
    "    :return: {dataframe} which contains one judgement per line\n",
    "    \"\"\"\n",
    "    data = load_jsonl(infile)\n",
    "    df = pd.DataFrame.from_records(data)\n",
    "    return df"
   ]
  },
  {
   "cell_type": "code",
   "execution_count": 6,
   "metadata": {},
   "outputs": [],
   "source": [
    "def get_processed_texts(texts):\n",
    "    \"\"\"\n",
    "    Split sentences in list of sentences, remove punctuation in sentences\n",
    "    :param {text} texts:\n",
    "    :return: {list} list of sentences without punctuations inside\n",
    "    \"\"\"\n",
    "    texts = re.split(';|\\n\\n|,',texts)\n",
    "    return [''.join(ch for ch in x if ch not in punctuations).strip() for x in texts if x]"
   ]
  },
  {
   "cell_type": "code",
   "execution_count": 7,
   "metadata": {},
   "outputs": [],
   "source": [
    "def remove_stop_sentence(text, stop_sentences):\n",
    "    \"\"\"\n",
    "    Remove sentence if the sentence's occurrence frequency if high\n",
    "    :param text: original list of sentences\n",
    "    :param stop_sentences: stop sentences\n",
    "    :return: sentences processed\n",
    "    \"\"\"\n",
    "    list_sentences_without_stop_sent = [sent.lower() for sent in text if sent.lower() not in stop_sentences]\n",
    "    words = [w for sent in list_sentences_without_stop_sent for w in sent.split(' ')]\n",
    "    if len(words) < 15 :\n",
    "        return ' '.join([get_sentenc_without_punctuation(sent).lower() for sent in text])\n",
    "    else:\n",
    "        new_text = ' '.join([get_sentenc_without_punctuation(sent) for sent in list_sentences_without_stop_sent])\n",
    "    return new_text"
   ]
  },
  {
   "cell_type": "code",
   "execution_count": 8,
   "metadata": {},
   "outputs": [],
   "source": [
    "def get_sentenc_without_punctuation(sent):\n",
    "    for p in punctuations:\n",
    "        if p in sent:\n",
    "            sent = sent.replace(p, '')\n",
    "    return sent"
   ]
  },
  {
   "cell_type": "code",
   "execution_count": 9,
   "metadata": {},
   "outputs": [],
   "source": [
    "def get_stop_sentences(texts):\n",
    "    texts = [text for texts in list(texts) for text in texts]\n",
    "    counter=collections.Counter(texts)\n",
    "    stop_sents = [sent.lower() for (sent, occ) in counter.most_common(1550) if len(sent) > 2 and 'euros' not in sent.lower() and '€' not in sent and len(sent.split()) > 1 and len(sent.split()) < 5]\n",
    "    with open(\"/home/yichun/projects/information_retrieval/data/stop_sentences.json\", \"w\") as f:\n",
    "        json.dump(stop_sents, f, indent=1, ensure_ascii=False, sort_keys=True)\n",
    "    return stop_sents"
   ]
  },
  {
   "cell_type": "markdown",
   "metadata": {},
   "source": [
    "### Store judgement without frequent sentences "
   ]
  },
  {
   "cell_type": "code",
   "execution_count": 20,
   "metadata": {},
   "outputs": [],
   "source": [
    "def store_decomposed_sentences_df(infile):\n",
    "    df = get_dataframe(infile)\n",
    "    df['judgementId'] = df.index + 1  \n",
    "    df['list_of_sents'] = df['text'].apply(lambda x: get_processed_texts(x))\n",
    "    stop_sentences = get_stop_sentences(df['list_of_sents'])  \n",
    "    print('Get Top 1550 frequent sentences, for exemple : ', stop_sentences[:15])\n",
    "    df['text'] = df['list_of_sents'].apply(lambda x: remove_stop_sentence(x, stop_sentences))\n",
    "    print(df[['judgementId', 'text']].head())\n",
    "    output_df = df[['judgementId', 'text']].copy()\n",
    "    output_df.to_csv('/home/yichun/projects/information_retrieval/data/judgements', header=True, index=False)"
   ]
  },
  {
   "cell_type": "code",
   "execution_count": 21,
   "metadata": {},
   "outputs": [
    {
     "name": "stdout",
     "output_type": "stream",
     "text": [
      "Loaded 10000 records from /home/yichun/projects/information_retrieval/data/judgements.jsonl\n",
      "Get Top 1550 frequent sentences, for exemple :  ['par ces motifs', 'y ajoutant', 'la cour', 'la cour', 'la cour', 'statuant à nouveau', 'statuant publiquement', 'et prononcé par', 'statuant publiquement', 'en conséquence', 'par ces motifs', 'par arrêt contradictoire', 'rejette le pourvoi', 'entre les parties', 'casse et annule']\n",
      "   judgementId                                               text\n",
      "0            1  par mise à disposition au greffe déclare l'ass...\n",
      "1            2  annule les fermes rappels des 4102010 23122010...\n",
      "2            3  déclare recevable l'appel formé par la caisse ...\n",
      "3            4  statuant par arrêt réputé contradictoire et en...\n",
      "4            5  après en avoir délibéré conformément à la loi ...\n"
     ]
    }
   ],
   "source": [
    "store_decomposed_sentences_df('/home/yichun/projects/information_retrieval/data/judgements.jsonl')"
   ]
  }
 ],
 "metadata": {
  "anaconda-cloud": {},
  "kernelspec": {
   "display_name": "Python 3",
   "language": "python",
   "name": "python3"
  },
  "language_info": {
   "codemirror_mode": {
    "name": "ipython",
    "version": 3
   },
   "file_extension": ".py",
   "mimetype": "text/x-python",
   "name": "python",
   "nbconvert_exporter": "python",
   "pygments_lexer": "ipython3",
   "version": "3.6.8"
  }
 },
 "nbformat": 4,
 "nbformat_minor": 1
}
