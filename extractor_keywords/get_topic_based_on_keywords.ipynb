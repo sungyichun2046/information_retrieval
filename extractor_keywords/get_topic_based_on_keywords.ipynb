{
 "cells": [
  {
   "cell_type": "code",
   "execution_count": 1,
   "metadata": {},
   "outputs": [],
   "source": [
    "from __future__ import absolute_import\n",
    "import sys\n",
    "sys.path.append('/home/yichun/projects/information_retrieval')\n",
    "import json\n",
    "import pandas as pd"
   ]
  },
  {
   "cell_type": "code",
   "execution_count": 2,
   "metadata": {},
   "outputs": [],
   "source": [
    "topic2keywords = { 'A': [['rupture', 'relation de travail'], ['licenciement']],\n",
    "                   'B': [['rupture', 'contrat de travail'], ['licenciement']],\n",
    "                   'C': [['rupture', 'relations commerciales']],\n",
    "                    'D': [['rupture', 'contrat'], ['rupture', 'bail'], ['licenciement']],\n",
    "                    'E': [['indemnité', 'rupture'], ['indemnité', 'licenciement'], ['indemnité', 'divorce'], ['prestation', 'divorce']],\n",
    "                    'F': [['indemnité', 'congés payés']],\n",
    "                    'G': [['indemnité', 'préavis']]\n",
    "                   }\n",
    "with open('/home/yichun/projects/information_retrieval/data/keywords.json') as f:\n",
    "        keywords = json.load(f)\n",
    "with open('/home/yichun/projects/information_retrieval/data/stopwords_fr.json') as f:\n",
    "        stopwords_fr = json.load(f)"
   ]
  },
  {
   "cell_type": "code",
   "execution_count": 3,
   "metadata": {},
   "outputs": [
    {
     "name": "stdout",
     "output_type": "stream",
     "text": [
      "Keywords predefined = ['commerciales', 'travail', 'établies', 'contrat', 'contrats', 'compensatrice', 'rupture', 'indemnité', 'relation', 'préavis', 'brutale', 'relations', 'abusive', 'licenciement', 'dommages-intérêts', 'dommages et intérêts', 'allocation', 'compensation', 'dédommagement', 'indemnisation', 'paiement', 'pécule', 'prestation', 'départ', 'expulsion', 'mise à la porte', 'mise au chômage', 'renvoi', 'illégitime', 'injuste', 'injustifié', 'bail', 'brusque', \"période d'essai\", 'cdd', 'cdi', 'stage', 'divorce', 'relations commerciales', 'relation commerciale', 'congés payés', 'relation de travail', 'relations de travail', 'interruption', 'à payer', 'à verser', 'interrompre']\n"
     ]
    }
   ],
   "source": [
    "print(\"Keywords predefined =\", keywords)"
   ]
  },
  {
   "cell_type": "code",
   "execution_count": 4,
   "metadata": {},
   "outputs": [],
   "source": [
    "def get_extracted_keywords(judgement):\n",
    "    \"\"\"\n",
    "    :param {string} judgement:\n",
    "    :return: list of keywords\n",
    "    \"\"\"\n",
    "    extracted_keywords = []\n",
    "    for keyword in keywords:\n",
    "        if keyword in judgement:\n",
    "            extracted_keywords.append(keyword)\n",
    "    return extracted_keywords"
   ]
  },
  {
   "cell_type": "code",
   "execution_count": 8,
   "metadata": {},
   "outputs": [],
   "source": [
    "def get_topic(keywords):\n",
    "    \"\"\"\n",
    "    :param {string[]} keywords: list of keywocongés payésrds in judgement\n",
    "    :return: topic identified belong to keywords\n",
    "    \"\"\"\n",
    "    df = pd.read_csv('/home/yichun/projects/information_retrieval/data/similar_words', sep=';')\n",
    "    word2similar_words = df.set_index('word')['similar_word'].to_dict()\n",
    "    word2similar_words = {k: v.split(',') if ',' in v else  [v] for k, v in word2similar_words.items()}\n",
    "    print('Similar words mapping predefined= ', word2similar_words)\n",
    "    keywords_unified = []\n",
    "    for keyword in keywords:\n",
    "        for k in word2similar_words:\n",
    "            if keyword in word2similar_words[k]:\n",
    "                keyword = k\n",
    "                break\n",
    "        keywords_unified.append(keyword)\n",
    "    topics_identified = set()\n",
    "    for topic in topic2keywords:\n",
    "        for t in topic2keywords[topic]:\n",
    "            if len(set(keywords_unified).intersection(t)) == len(t):\n",
    "                topics_identified.add(topic)\n",
    "                break\n",
    "    return list(sorted(topics_identified))"
   ]
  },
  {
   "cell_type": "code",
   "execution_count": 9,
   "metadata": {},
   "outputs": [
    {
     "name": "stdout",
     "output_type": "stream",
     "text": [
      "Similar words mapping predefined=  {'indemnité': ['dommages-intérêts', 'dommages et intérêts', 'dédommagement', 'indemnisation', 'à verser', 'à payer'], 'rupture': ['résiliation', 'interruption', 'interrompre', 'arrêt'], 'contrat': ['contrats'], 'contrat de travail': ['contrats de travail'], 'relation': ['relations'], 'relation de travail': ['cdd', 'cdi', 'stage', 'période d’essai']}\n",
      "\n",
      "\n",
      "Sentence = déboute la société richa de sa demande en annulation du jugement du tribunal de commerce de lyon en date du 9 avril 2014 confirme le jugement entrepris en ce qu'il a rejeté l'exception de litispendance au profit de la cour d'appel de gent concernant la demande principale en indemnisation formée par la société distrimoto international sur le fondement de l'article l442-6 i 5º du code de commerce confirme le jugement entrepris en ce qu'il a admis l'exception de litispendance concernant la demande reconventionnelle en paiement d'une somme de 68155 67 euros l'infirme en ce qu'il s'est déclaré incompétent pour en connaître et statuant à nouveau sursoit à statuer sur la demande reconventionnelle formée par la société richa en paiement d'une somme de 68153 16 euros dans l'attente que la compétence de la cour d'appel de gent saisie de l'appel du jugement du tribunal de commerce d'oudenaarde du 7 octobre 2014 soit établie confirme le jugement entrepris en ce qu'il a dit la loi française applicable et a reconnu l'existence de relations commerciales établies entre les parties pendant 13 ans au sens de l'article l442-6 i 5º du code de commerce sursoit à statuer sur la demande d'indemnisation pour rupture brutale des relations commerciales dans l'attente de l'arrêt rendu par la cour d'appel de gent saisie de l'appel du jugement du tribunal de commerce d'oudenaarde du 7 octobre 2014 réserve les autres demandes\n",
      "\n",
      "Keywords extracted = ['commerciales', 'établies', 'rupture', 'relation', 'brutale', 'relations', 'indemnisation', 'paiement', 'relations commerciales']\n",
      "\n",
      "Topic idetified = ['C', 'E']\n"
     ]
    }
   ],
   "source": [
    "sent = \"déboute la société richa de sa demande en annulation du jugement du tribunal de commerce de lyon en date du 9 avril 2014 confirme le jugement entrepris en ce qu'il a rejeté l'exception de litispendance au profit de la cour d'appel de gent concernant la demande principale en indemnisation formée par la société distrimoto international sur le fondement de l'article l442-6 i 5º du code de commerce confirme le jugement entrepris en ce qu'il a admis l'exception de litispendance concernant la demande reconventionnelle en paiement d'une somme de 68155 67 euros l'infirme en ce qu'il s'est déclaré incompétent pour en connaître et statuant à nouveau sursoit à statuer sur la demande reconventionnelle formée par la société richa en paiement d'une somme de 68153 16 euros dans l'attente que la compétence de la cour d'appel de gent saisie de l'appel du jugement du tribunal de commerce d'oudenaarde du 7 octobre 2014 soit établie confirme le jugement entrepris en ce qu'il a dit la loi française applicable et a reconnu l'existence de relations commerciales établies entre les parties pendant 13 ans au sens de l'article l442-6 i 5º du code de commerce sursoit à statuer sur la demande d'indemnisation pour rupture brutale des relations commerciales dans l'attente de l'arrêt rendu par la cour d'appel de gent saisie de l'appel du jugement du tribunal de commerce d'oudenaarde du 7 octobre 2014 réserve les autres demandes\"\n",
    "keywords = get_extracted_keywords(sent)\n",
    "topic = get_topic(keywords)\n",
    "print(\"\\n\\nSentence = {}\\n\\nKeywords extracted = {}\\n\\nTopic idetified = {}\".format(sent, keywords, topic))"
   ]
  }
 ],
 "metadata": {
  "anaconda-cloud": {},
  "kernelspec": {
   "display_name": "Python 3",
   "language": "python",
   "name": "python3"
  },
  "language_info": {
   "codemirror_mode": {
    "name": "ipython",
    "version": 3
   },
   "file_extension": ".py",
   "mimetype": "text/x-python",
   "name": "python",
   "nbconvert_exporter": "python",
   "pygments_lexer": "ipython3",
   "version": "3.6.8"
  }
 },
 "nbformat": 4,
 "nbformat_minor": 1
}
