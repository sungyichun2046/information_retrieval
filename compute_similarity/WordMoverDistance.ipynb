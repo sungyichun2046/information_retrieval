{
 "cells": [
  {
   "cell_type": "code",
   "execution_count": 1,
   "metadata": {},
   "outputs": [],
   "source": [
    "#copy of https://github.com/stephenhky/PyWMD/blob/master/WordMoverDistanceDemo.ipynb\n",
    "from __future__ import absolute_import\n",
    "import sys\n",
    "sys.path.append('/home/yichun/projects/information_retrieval')\n",
    "from itertools import product\n",
    "from collections import defaultdict\n",
    "from scipy.spatial.distance import euclidean\n",
    "import pulp\n",
    "from compute_similarity.CIV_ComputeSimilarity import CIV_ComputeSimilarity\n",
    "\n",
    "singleindexing = lambda m, i, j: m*i+j\n",
    "unpackindexing = lambda m, k: (k/m, k % m)\n",
    "\n",
    "class WordMoverDistance(CIV_ComputeSimilarity):\n",
    "    def tokens_to_fracdict(self, tokens):\n",
    "        cntdict = defaultdict(lambda : 0)\n",
    "        for token in tokens:\n",
    "            cntdict[token] += 1\n",
    "        totalcnt = sum(cntdict.values())\n",
    "        return {token: float(cnt)/totalcnt for token, cnt in cntdict.items()}\n",
    "\n",
    "    # use PuLP\n",
    "    def word_mover_distance_probspec(self, first_sent_tokens, second_sent_tokens, wvmodel, lpFile=None):\n",
    "        all_tokens = list(set(first_sent_tokens+second_sent_tokens))\n",
    "        wordvecs = {token: wvmodel[token] for token in all_tokens}\n",
    "\n",
    "        first_sent_buckets = self.tokens_to_fracdict(first_sent_tokens)\n",
    "        second_sent_buckets = self.tokens_to_fracdict(second_sent_tokens)\n",
    "\n",
    "        T = pulp.LpVariable.dicts('T_matrix', list(product(all_tokens, all_tokens)), lowBound=0)\n",
    "\n",
    "        prob = pulp.LpProblem('WMD', sense=pulp.LpMinimize)\n",
    "        prob += pulp.lpSum([T[token1, token2]*euclidean(wordvecs[token1], wordvecs[token2])\n",
    "                        for token1, token2 in product(all_tokens, all_tokens)])\n",
    "        for token2 in second_sent_buckets:\n",
    "            prob += pulp.lpSum([T[token1, token2] for token1 in first_sent_buckets])==second_sent_buckets[token2]\n",
    "        for token1 in first_sent_buckets:\n",
    "            prob += pulp.lpSum([T[token1, token2] for token2 in second_sent_buckets])==first_sent_buckets[token1]\n",
    "\n",
    "        if lpFile!=None:\n",
    "            prob.writeLP(lpFile)\n",
    "        prob.solve()\n",
    "        return prob\n",
    "\n",
    "    def get_similarity_between_two_sentences(self, tokens1, tokens2, vectorizer, lpFile=None):\n",
    "        prob = self.word_mover_distance_probspec(tokens1, tokens2, vectorizer, lpFile=lpFile)\n",
    "        return pulp.value(prob.objective)"
   ]
  },
  {
   "cell_type": "code",
   "execution_count": 2,
   "metadata": {},
   "outputs": [
    {
     "name": "stderr",
     "output_type": "stream",
     "text": [
      "\n"
     ]
    },
    {
     "name": "stdout",
     "output_type": "stream",
     "text": [
      "Dissimilarity between indemnité légale de licenciement AND dommages interet licenciement abusif = 11.533711433410645\n"
     ]
    }
   ],
   "source": [
    "import fasttext\n",
    "calculator = WordMoverDistance()\n",
    "vectors = '/home/yichun/projects/information_retrieval/word_embedding/fasttext_model_50d.bin'\n",
    "vectorizer = fasttext.load_model(vectors)\n",
    "tokens1 = ['indemnité', 'légale', 'de', 'licenciement']\n",
    "tokens2 = ['dommages', 'interet', 'licenciement', 'abusif']\n",
    "distance = calculator.get_similarity_between_two_sentences(tokens1, tokens2, vectorizer)\n",
    "print('Dissimilarity between indemnité légale de licenciement AND dommages interet licenciement abusif =', distance)"
   ]
  }
 ],
 "metadata": {
  "anaconda-cloud": {},
  "kernelspec": {
   "display_name": "Python 3",
   "language": "python",
   "name": "python3"
  },
  "language_info": {
   "codemirror_mode": {
    "name": "ipython",
    "version": 3
   },
   "file_extension": ".py",
   "mimetype": "text/x-python",
   "name": "python",
   "nbconvert_exporter": "python",
   "pygments_lexer": "ipython3",
   "version": "3.6.8"
  }
 },
 "nbformat": 4,
 "nbformat_minor": 1
}
