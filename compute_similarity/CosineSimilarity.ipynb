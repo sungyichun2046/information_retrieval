{
 "cells": [
  {
   "cell_type": "code",
   "execution_count": 1,
   "metadata": {},
   "outputs": [],
   "source": [
    "from __future__ import absolute_import\n",
    "import sys\n",
    "sys.path.append('/home/yichun/projects/information_retrieval')\n",
    "import numpy as np\n",
    "from compute_similarity.CIV_ComputeSimilarity import CIV_ComputeSimilarity\n",
    "from sklearn.feature_extraction.text import CountVectorizer\n",
    "from scipy.spatial import distance"
   ]
  },
  {
   "cell_type": "code",
   "execution_count": 2,
   "metadata": {},
   "outputs": [],
   "source": [
    "class CosineSimilarity(CIV_ComputeSimilarity):\n",
    "\n",
    "    def get_similarity_between_two_sentences(self, tokens1, tokens2, vectorizer=None):\n",
    "        if vectorizer:\n",
    "            return self.get_cosine_distance_wordembedding_method(tokens1, tokens2, vectorizer)\n",
    "\n",
    "    def get_cosine_distance_wordembedding_method(self, tokens1, tokens2, vectorizer):\n",
    "        vector_1 = np.mean([vectorizer[word] for word in tokens1],axis=0)\n",
    "        vector_2 = np.mean([vectorizer[word] for word in tokens2],axis=0)\n",
    "        similarity = 1 - distance.cosine(vector_1, vector_2)\n",
    "        return similarity\n",
    "\n",
    "    def get_cosine_distance_countvectorizer_method(self, s1, s2):\n",
    "        \"\"\"\n",
    "        :param {string} s1:\n",
    "        :param {string} s2:\n",
    "        :return: similarity\n",
    "        \"\"\"\n",
    "\n",
    "        allsentences = [s1 , s2]\n",
    "        vectorizer = CountVectorizer()\n",
    "        all_sentences_to_vector = vectorizer.fit_transform(allsentences)\n",
    "        text_to_vector_v1 = all_sentences_to_vector.toarray()[0].tolist()\n",
    "        text_to_vector_v2 = all_sentences_to_vector.toarray()[1].tolist()\n",
    "        # distance of similarity\n",
    "        cosine = distance.cosine(text_to_vector_v1, text_to_vector_v2)\n",
    "        similairty = round((1-cosine)*100,2)\n",
    "        return similairty\n"
   ]
  },
  {
   "cell_type": "code",
   "execution_count": 3,
   "metadata": {},
   "outputs": [
    {
     "name": "stderr",
     "output_type": "stream",
     "text": [
      "\n"
     ]
    },
    {
     "name": "stdout",
     "output_type": "stream",
     "text": [
      "Similarity between indemnité légale de licenciement AND dommages interet licenciement abusif = 0.7027842998504639\n"
     ]
    }
   ],
   "source": [
    "import fasttext\n",
    "calculator = CosineSimilarity()\n",
    "vectors = '/home/yichun/projects/information_retrieval/word_embedding/fasttext_model_50d.bin'\n",
    "vectorizer = fasttext.load_model(vectors)\n",
    "tokens1 = ['indemnité', 'légale', 'de', 'licenciement']\n",
    "tokens2 = ['dommages', 'interet', 'licenciement', 'abusif']\n",
    "distance = calculator.get_similarity_between_two_sentences(tokens1, tokens2, vectorizer)\n",
    "print('Similarity between indemnité légale de licenciement AND dommages interet licenciement abusif =', distance)"
   ]
  }
 ],
 "metadata": {
  "anaconda-cloud": {},
  "kernelspec": {
   "display_name": "Python 3",
   "language": "python",
   "name": "python3"
  },
  "language_info": {
   "codemirror_mode": {
    "name": "ipython",
    "version": 3
   },
   "file_extension": ".py",
   "mimetype": "text/x-python",
   "name": "python",
   "nbconvert_exporter": "python",
   "pygments_lexer": "ipython3",
   "version": "3.6.8"
  }
 },
 "nbformat": 4,
 "nbformat_minor": 1
}
